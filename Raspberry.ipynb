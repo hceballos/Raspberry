{
 "cells": [
  {
   "cell_type": "markdown",
   "metadata": {},
   "source": [
    "1. consultar ip de raspberry en router:<br>\n",
    "ROUTER:<br>\n",
    "http://192.168.1.1:8000/cgi-bin/login_advance.cgi <br>\n",
    "Support <br>\n",
    "!!T2l2f4n3c1!!"
   ]
  },
  {
   "cell_type": "markdown",
   "metadata": {},
   "source": [
    "2. conectar con raspberry\n",
    "ssh pi@192.168.1.85\n",
    "Contraseña : raspberry"
   ]
  },
  {
   "cell_type": "markdown",
   "metadata": {},
   "source": [
    "3. a Copiar carpetas a Raspberry:<br>\n",
    "desde mi terminal:<br>\n",
    "scp -r /Users/Hector/Desktop/Sistema/Hblt_new/input pi@192.168.1.85:~/git/hblt/"
   ]
  },
  {
   "cell_type": "markdown",
   "metadata": {},
   "source": [
    "En el caso de un error como este:"
   ]
  },
  {
   "cell_type": "code",
   "execution_count": null,
   "metadata": {},
   "outputs": [],
   "source": [
    "[user@hostname ~]$ ssh root@pong\n",
    "@@@@@@@@@@@@@@@@@@@@@@@@@@@@@@@@@@@@@@@@@@@@@@@@@@@@@@@@@@@\n",
    "@    WARNING: REMOTE HOST IDENTIFICATION HAS CHANGED!     @\n",
    "@@@@@@@@@@@@@@@@@@@@@@@@@@@@@@@@@@@@@@@@@@@@@@@@@@@@@@@@@@@\n",
    "IT IS POSSIBLE THAT SOMEONE IS DOING SOMETHING NASTY!\n",
    "Someone could be eavesdropping on you right now (man-in-the-middle attack)!\n",
    "It is also possible that a host key has just been changed.\n",
    "The fingerprint for the RSA key sent by the remote host is\n",
    "6e:45:f9:a8:af:38:3d:a1:a5:c7:76:1d:02:f8:77:00.\n",
    "Please contact your system administrator.\n",
    "Add correct host key in /home/hostname /.ssh/known_hosts to get rid of this message.\n",
    "Offending RSA key in /var/lib/sss/pubconf/known_hosts:4\n",
    "RSA host key for pong has changed and you have requested strict checking.\n",
    "Host key verification failed."
   ]
  },
  {
   "cell_type": "markdown",
   "metadata": {},
   "source": [
    "significa que debes borrar la linea 4 en el fichero: /home/hostname /.ssh/known_hosts <br>\n",
    "lo puedes borrar usando vi<br>\n",
    "vi known_hosts <br>\n",
    " <br>\n",
    "referencia, ver: https://www.youtube.com/watch?v=jG6oXd1lxpQ"
   ]
  },
  {
   "cell_type": "markdown",
   "metadata": {},
   "source": [
    "3. b Copiar ficheros a Raspberry\n",
    "scp <fichero> pi@192.168.1.3:~/git/hblt/"
   ]
  },
  {
   "cell_type": "markdown",
   "metadata": {},
   "source": [
    "4. clonar desde github\n",
    "git clone https://github.com/hceballos/hblt.git"
   ]
  },
  {
   "cell_type": "markdown",
   "metadata": {},
   "source": [
    "5. borrar carpetas\n",
    "rm -rf hblt"
   ]
  },
  {
   "cell_type": "markdown",
   "metadata": {},
   "source": [
    "Temperatura de la CPU: <br>\n",
    "vcgencmd measure_temp"
   ]
  },
  {
   "cell_type": "markdown",
   "metadata": {},
   "source": [
    "Para entrar en la ventana de configuración de Raspbian: <br>\n",
    "sudo raspi-config"
   ]
  },
  {
   "cell_type": "markdown",
   "metadata": {},
   "source": [
    "Apagar el dispositivo: <br>\n",
    "sudo shutdown -h"
   ]
  },
  {
   "cell_type": "markdown",
   "metadata": {},
   "source": [
    "Reiniciar la Raspberry: <br>\n",
    "sudo reboot   <br>\n",
    ", <br>\n",
    "sudo shutdown -r now"
   ]
  }
 ],
 "metadata": {
  "kernelspec": {
   "display_name": "Python 3",
   "language": "python",
   "name": "python3"
  },
  "language_info": {
   "codemirror_mode": {
    "name": "ipython",
    "version": 3
   },
   "file_extension": ".py",
   "mimetype": "text/x-python",
   "name": "python",
   "nbconvert_exporter": "python",
   "pygments_lexer": "ipython3",
   "version": "3.6.6"
  }
 },
 "nbformat": 4,
 "nbformat_minor": 2
}
