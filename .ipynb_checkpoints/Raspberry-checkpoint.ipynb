{
 "cells": [
  {
   "cell_type": "markdown",
   "metadata": {},
   "source": [
    "### Conectar con raspberry pi, sin teclado ni mouse."
   ]
  },
  {
   "cell_type": "markdown",
   "metadata": {},
   "source": [
    "#### Paso 1, protocolo de administración remota (ssh)."
   ]
  },
  {
   "cell_type": "markdown",
   "metadata": {},
   "source": [
    "Conectar tarjeta micro SD en Notebook. <br>\n",
    "buscar carpeta con nombre \"boot\" y crear fichero con nombre \"ssh\" <br>\n",
    "```python \n",
    "$ touch ssh\n",
    "```"
   ]
  },
  {
   "cell_type": "markdown",
   "metadata": {},
   "source": [
    "#### Paso 2, conexión por wifi."
   ]
  },
  {
   "cell_type": "markdown",
   "metadata": {},
   "source": [
    "Crear un fichero en \"boot\" llamado \"wpa_supplicant.conf\" <br>\n",
    "```python \n",
    "$ touch wpa_supplicant.conf \n",
    "```\n",
    "Agregar el siguiente contenido:"
   ]
  },
  {
   "cell_type": "markdown",
   "metadata": {},
   "source": [
    "```python\n",
    "country=US <br>\n",
    "ctrl_interface=DIR=/var/run/wpa_supplicant GROUP=netdev <br>\n",
    "update_config=1 <br>\n",
    "<br>\n",
    "network={ <br>\n",
    "    ssid=\"***nombre de wifi***\" <br>\n",
    "    psk=\"***Contraseña***\" <br>\n",
    "    key_mgmt=WPA-PSK <br>\n",
    "}\n",
    "```"
   ]
  },
  {
   "cell_type": "markdown",
   "metadata": {},
   "source": [
    "#### Paso 3, consultar ip de raspberry en router:"
   ]
  },
  {
   "cell_type": "markdown",
   "metadata": {},
   "source": [
    "http://192.168.1.1:8000/cgi-bin/login_advance.cgi <br>\n",
    "Nombre de usuario: Support <br>\n",
    "Contraseña: !!T2l2f4n3c1!! <br>"
   ]
  },
  {
   "cell_type": "markdown",
   "metadata": {},
   "source": [
    "Identificar Dirección IP de raspberrypi, en este caso es: 192.168.1.84"
   ]
  },
  {
   "cell_type": "markdown",
   "metadata": {},
   "source": [
    "#### Paso 4, Trabajando en consola:"
   ]
  },
  {
   "cell_type": "markdown",
   "metadata": {},
   "source": [
    "```python\n",
    "ssh pi@192.168.1.84\n",
    "pi@192.168.1.84's password: raspberry\n",
    "```"
   ]
  },
  {
   "cell_type": "markdown",
   "metadata": {},
   "source": [
    "### Posible problema:"
   ]
  },
  {
   "cell_type": "markdown",
   "metadata": {},
   "source": [
    "al escribir: \n",
    "```python\n",
    "ssh pi@192.168.1.84\n",
    "```\n",
    "es posible que aparezca una advertencia como esta:"
   ]
  },
  {
   "cell_type": "markdown",
   "metadata": {},
   "source": [
    "```python\n",
    "[user@hostname ~]$ ssh root@pong\n",
    "@@@@@@@@@@@@@@@@@@@@@@@@@@@@@@@@@@@@@@@@@@@@@@@@@@@@@@@@@@@\n",
    "@    WARNING: REMOTE HOST IDENTIFICATION HAS CHANGED!     @\n",
    "@@@@@@@@@@@@@@@@@@@@@@@@@@@@@@@@@@@@@@@@@@@@@@@@@@@@@@@@@@@\n",
    "IT IS POSSIBLE THAT SOMEONE IS DOING SOMETHING NASTY!\n",
    "Someone could be eavesdropping on you right now (man-in-the-middle attack)!\n",
    "It is also possible that a host key has just been changed.\n",
    "The fingerprint for the RSA key sent by the remote host is\n",
    "6e:45:f9:a8:af:38:3d:a1:a5:c7:76:1d:02:f8:77:00.\n",
    "Please contact your system administrator.\n",
    "Add correct host key in /home/hostname /.ssh/known_hosts to get rid of this message.\n",
    "Offending RSA key in /var/lib/sss/pubconf/known_hosts:4\n",
    "RSA host key for pong has changed and you have requested strict checking.\n",
    "Host key verification failed.\n",
    "```"
   ]
  },
  {
   "cell_type": "markdown",
   "metadata": {},
   "source": [
    "significa que debes borrar la linea 4 en el fichero: /home/hostname/.ssh/known_hosts <br>\n",
    "lo puedes borrar usando vim: <br>\n",
    "```python\n",
    "vim known_hosts \n",
    "```"
   ]
  }
 ],
 "metadata": {
  "kernelspec": {
   "display_name": "Python 3",
   "language": "python",
   "name": "python3"
  },
  "language_info": {
   "codemirror_mode": {
    "name": "ipython",
    "version": 3
   },
   "file_extension": ".py",
   "mimetype": "text/x-python",
   "name": "python",
   "nbconvert_exporter": "python",
   "pygments_lexer": "ipython3",
   "version": "3.6.6"
  }
 },
 "nbformat": 4,
 "nbformat_minor": 2
}
